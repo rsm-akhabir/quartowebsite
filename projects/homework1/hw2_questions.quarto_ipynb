{
  "cells": [
    {
      "cell_type": "markdown",
      "metadata": {},
      "source": [
        "---\n",
        "title: \"Poisson Regression Examples\"\n",
        "author: \"Your Name\"\n",
        "date: today\n",
        "callout-appearance: minimal # this hides the blue \"i\" icon on .callout-notes\n",
        "---\n",
        "\n",
        "\n",
        "## Blueprinty Case Study\n",
        "\n",
        "### Introduction\n",
        "\n",
        "Blueprinty is a small firm that makes software for developing blueprints specifically for submitting patent applications to the US patent office. Their marketing team would like to make the claim that patent applicants using Blueprinty's software are more successful in getting their patent applications approved. Ideal data to study such an effect might include the success rate of patent applications before using Blueprinty's software and after using it. Unfortunately, such data is not available. \n",
        "\n",
        "However, Blueprinty has collected data on 1,500 mature (non-startup) engineering firms. The data include each firm's number of patents awarded over the last 5 years, regional location, age since incorporation, and whether or not the firm uses Blueprinty's software. The marketing team would like to use this data to make the claim that firms using Blueprinty's software are more successful in getting their patent applications approved.\n",
        "\n",
        "\n",
        "### Data\n"
      ],
      "id": "91a08c88"
    },
    {
      "cell_type": "code",
      "metadata": {},
      "source": [
        "import pandas as pd\n",
        "import seaborn as sns\n",
        "\n",
        "# Load the Blueprinty data\n",
        "data = pd.read_csv('/home/jovyan/Desktop/marketingwebsite/blueprinty.csv')\n",
        "\n",
        "# Display the first few rows of the dataset\n",
        "data.head()"
      ],
      "id": "89b1020a",
      "execution_count": null,
      "outputs": []
    },
    {
      "cell_type": "markdown",
      "metadata": {},
      "source": [
        "_todo: Compare histograms and means of number of patents by customer status. What do you observe?_\n"
      ],
      "id": "d8136c58"
    },
    {
      "cell_type": "code",
      "metadata": {},
      "source": [
        "import matplotlib.pyplot as plt\n",
        "\n",
        "# Separate data into customers and non-customers\n",
        "customers = data[data['iscustomer'] == 1]\n",
        "non_customers = data[data['iscustomer'] == 0]\n",
        "\n",
        "# Plot histograms\n",
        "plt.hist(customers['patents'], bins=20, alpha=0.5, label='Customers')\n",
        "plt.hist(non_customers['patents'], bins=20, alpha=0.5, label='Non-Customers')\n",
        "plt.xlabel('Number of Patents')\n",
        "plt.ylabel('Frequency')\n",
        "plt.legend()\n",
        "plt.title('Histogram of Number of Patents by Customer Status')\n",
        "plt.show()\n",
        "\n",
        "# Calculate and print means\n",
        "mean_customers = customers['patents'].mean()\n",
        "mean_non_customers = non_customers['patents'].mean()\n",
        "print(f\"Mean number of patents for customers: {mean_customers}\")\n",
        "print(f\"Mean number of patents for non-customers: {mean_non_customers}\")"
      ],
      "id": "7994ecfe",
      "execution_count": null,
      "outputs": []
    },
    {
      "cell_type": "markdown",
      "metadata": {},
      "source": [
        "Blueprinty customers are not selected at random. It may be important to account for systematic differences in the age and regional location of customers vs non-customers.\n",
        "\n",
        "_todo: Compare regions and ages by customer status. What do you observe?_\n"
      ],
      "id": "e53bd256"
    },
    {
      "cell_type": "code",
      "metadata": {},
      "source": [
        "# Compare regions by customer status\n",
        "region_counts_customers = customers['region'].value_counts(normalize=True)\n",
        "region_counts_non_customers = non_customers['region'].value_counts(normalize=True)\n",
        "\n",
        "print(\"Region distribution for customers:\")\n",
        "print(region_counts_customers)\n",
        "print(\"\\nRegion distribution for non-customers:\")\n",
        "print(region_counts_non_customers)\n",
        "\n",
        "# Compare ages by customer status\n",
        "mean_age_customers = customers['age'].mean()\n",
        "mean_age_non_customers = non_customers['age'].mean()\n",
        "\n",
        "print(f\"\\nMean age for customers: {mean_age_customers}\")\n",
        "print(f\"Mean age for non-customers: {mean_age_non_customers}\")"
      ],
      "id": "1c8e9a02",
      "execution_count": null,
      "outputs": []
    },
    {
      "cell_type": "markdown",
      "metadata": {},
      "source": [
        "### Estimation of Simple Poisson Model\n",
        "\n",
        "Since our outcome variable of interest can only be small integer values per a set unit of time, we can use a Poisson density to model the number of patents awarded to each engineering firm over the last 5 years. We start by estimating a simple Poisson model via Maximum Likelihood.\n",
        "\n",
        "_todo: Write down mathematically the likelihood for_ $Y \\sim \\text{Poisson}(\\lambda)$. Note that $f(Y|\\lambda) = e^{-\\lambda}\\lambda^Y/Y!$.\n"
      ],
      "id": "1f553b91"
    },
    {
      "cell_type": "code",
      "metadata": {},
      "source": [
        "# Define the Poisson likelihood function\n",
        "import numpy as np\n",
        "\n",
        "def poisson_likelihood(lambda_, Y):\n",
        "   \"\"\"\n",
        "   Compute the Poisson likelihood for given lambda and observed Y.\n",
        "   \"\"\"\n",
        "   likelihood = np.exp(-lambda_) * (lambda_ ** Y) / np.math.factorial(Y)\n",
        "   return likelihood\n",
        "\n",
        "# Example usage\n",
        "Y_observed = 5  # Example observed number of patents\n",
        "lambda_example = 3.0  # Example lambda value\n",
        "likelihood_value = poisson_likelihood(lambda_example, Y_observed)\n",
        "print(f\"Poisson likelihood for Y={Y_observed} and lambda={lambda_example}: {likelihood_value}\")"
      ],
      "id": "222ba380",
      "execution_count": null,
      "outputs": []
    },
    {
      "cell_type": "markdown",
      "metadata": {},
      "source": [
        "_todo: Code the likelihood (or log-likelihood) function for the Poisson model. This is a function of lambda and Y. For example:_\n",
        "\n",
        "```\n",
        "poisson_loglikelihood <- function(lambda, Y){\n",
        "   ...\n",
        "}\n",
        "```\n"
      ],
      "id": "db1a1305"
    },
    {
      "cell_type": "code",
      "metadata": {},
      "source": [
        "def poisson_loglikelihood(lambda_, Y):\n",
        "   \"\"\"\n",
        "   Compute the Poisson log-likelihood for given lambda and observed Y.\n",
        "   \"\"\"\n",
        "   from scipy.special import factorial\n",
        "   log_likelihood = np.sum(Y * np.log(lambda_) - lambda_ - np.log(factorial(Y)))\n",
        "   return log_likelihood"
      ],
      "id": "7f601157",
      "execution_count": null,
      "outputs": []
    },
    {
      "cell_type": "markdown",
      "metadata": {},
      "source": [
        "_todo: Use your function to plot lambda on the horizontal axis and the likelihood (or log-likelihood) on the vertical axis for a range of lambdas (use the observed number of patents as the input for Y)._\n"
      ],
      "id": "92a5356c"
    },
    {
      "cell_type": "code",
      "metadata": {},
      "source": [
        "# Define a range of lambda values\n",
        "lambda_values = np.linspace(0.1, 10, 100)\n",
        "\n",
        "# Convert Y_sample to a NumPy array\n",
        "Y_sample = np.array([5, 3, 4, 6, 2])  # Example observed data\n",
        "\n",
        "# Compute the log-likelihood for each lambda\n",
        "log_likelihoods = [poisson_loglikelihood(l, Y_sample) for l in lambda_values]\n",
        "\n",
        "# Plot the log-likelihood\n",
        "plt.plot(lambda_values, log_likelihoods, label='Log-Likelihood')\n",
        "plt.xlabel('Lambda')\n",
        "plt.ylabel('Log-Likelihood')\n",
        "plt.title('Log-Likelihood vs Lambda')\n",
        "plt.axvline(x=np.mean(Y_sample), color='red', linestyle='--', label='MLE (Mean of Y)')\n",
        "plt.legend()\n",
        "plt.show()"
      ],
      "id": "29024a09",
      "execution_count": null,
      "outputs": []
    },
    {
      "cell_type": "markdown",
      "metadata": {},
      "source": [
        "_todo: If you're feeling mathematical, take the first derivative of your likelihood or log-likelihood, set it equal to zero and solve for lambda. You will find lambda_mle is Ybar, which \"feels right\" because the mean of a Poisson distribution is lambda._\n"
      ],
      "id": "576c7522"
    },
    {
      "cell_type": "code",
      "metadata": {},
      "source": [
        "# Derive the first derivative of the log-likelihood function\n",
        "# Log-likelihood: l(lambda) = Y * log(lambda) - lambda - log(Y!)\n",
        "# First derivative: dl/dlambda = Y / lambda - 1\n",
        "\n",
        "# Solve for lambda when dl/dlambda = 0\n",
        "# Y / lambda - 1 = 0 => lambda = Y\n",
        "\n",
        "# For a sample of observations, the MLE for lambda is the sample mean (Ybar)\n",
        "def compute_lambda_mle(Y):\n",
        "   \"\"\"\n",
        "   Compute the MLE for lambda (mean of Y).\n",
        "   \"\"\"\n",
        "   return np.mean(Y)\n",
        "\n",
        "# Example usage\n",
        "Y_sample = [5, 3, 4, 6, 2]  # Example observed data\n",
        "lambda_mle = compute_lambda_mle(Y_sample)\n",
        "print(f\"MLE for lambda (mean of Y): {lambda_mle}\")"
      ],
      "id": "b1ea5254",
      "execution_count": null,
      "outputs": []
    },
    {
      "cell_type": "markdown",
      "metadata": {},
      "source": [
        "_todo: Find the MLE by optimizing your likelihood function with optim() in R or sp.optimize() in Python._\n"
      ],
      "id": "5b171e56"
    },
    {
      "cell_type": "code",
      "metadata": {},
      "source": [
        "from scipy.optimize import minimize\n",
        "\n",
        "# Define the negative log-likelihood function for optimization\n",
        "def negative_log_likelihood(lambda_, Y):\n",
        "   \"\"\"\n",
        "   Compute the negative log-likelihood for Poisson.\n",
        "   from scipy.special import factorial\n",
        "   return -np.sum(Y * np.log(lambda_) - lambda_ - np.log(factorial(Y)))\n",
        "   return -np.sum(Y * np.log(lambda_) - lambda_ - np.log(np.array([np.math.factorial(y) for y in Y])))\n",
        "\n",
        "# Observed data\n",
        "Y_sample = [5, 3, 4, 6, 2]  # Example observed data\n",
        "\n",
        "# Initial guess for lambda\n",
        "initial_guess = np.mean(Y_sample)\n",
        "\n",
        "# Optimize the negative log-likelihood\n",
        "result = minimize(lambda l: negative_log_likelihood(l, Y_sample), x0=initial_guess, bounds=[(0.1, None)])\n",
        "\n",
        "# Extract the MLE for lambda\n",
        "lambda_mle = result.x[0]\n",
        "print(f\"MLE for lambda: {lambda_mle}\")"
      ],
      "id": "cb0f5ec6",
      "execution_count": null,
      "outputs": []
    },
    {
      "cell_type": "markdown",
      "metadata": {},
      "source": [
        "### Estimation of Poisson Regression Model\n",
        "\n",
        "Next, we extend our simple Poisson model to a Poisson Regression Model such that $Y_i = \\text{Poisson}(\\lambda_i)$ where $\\lambda_i = \\exp(X_i'\\beta)$. The interpretation is that the success rate of patent awards is not constant across all firms ($\\lambda$) but rather is a function of firm characteristics $X_i$. Specifically, we will use the covariates age, age squared, region, and whether the firm is a customer of Blueprinty.\n",
        "\n",
        "_todo: Update your likelihood or log-likelihood function with an additional argument to take in a covariate matrix X. Also change the parameter of the model from lambda to the beta vector. In this model, lambda must be a positive number, so we choose the inverse link function g_inv() to be exp() so that_ $\\lambda_i = e^{X_i'\\beta}$. _For example:_\n",
        "\n",
        "```\n",
        "poisson_regression_likelihood <- function(beta, Y, X){\n",
        "   ...\n",
        "}\n",
        "```\n"
      ],
      "id": "ceb3e16d"
    },
    {
      "cell_type": "code",
      "metadata": {},
      "source": [
        "def poisson_regression_loglikelihood(beta, Y, X):\n",
        "   \"\"\"\n",
        "   Compute the Poisson regression log-likelihood for given beta, observed Y, and covariate matrix X.\n",
        "   \"\"\"\n",
        "   # Compute lambda_i = exp(X_i' * beta)\n",
        "   lambda_ = np.exp(np.dot(X, beta))\n",
        "   \n",
        "   # Compute the log-likelihood\n",
        "   log_likelihood = np.sum(Y * np.log(lambda_) - lambda_ - np.log(np.array([np.math.factorial(y) for y in Y])))\n",
        "   return log_likelihood"
      ],
      "id": "3b794e3c",
      "execution_count": null,
      "outputs": []
    },
    {
      "cell_type": "markdown",
      "metadata": {},
      "source": [
        "_todo: Use your function along with R's optim() or Python's sp.optimize() to find the MLE vector and the Hessian of the Poisson model with covariates. Specifically, the first column of X should be all 1's to enable a constant term in the model, and the subsequent columns should be age, age squared, binary variables for all but one of the regions, and the binary customer variable. Use the Hessian to find standard errors of the beta parameter estimates and present a table of coefficients and standard errors._\n",
        "\n",
        "_todo: Check your results using R's glm() function or Python sm.GLM() function._\n",
        "\n",
        "_todo: Interpret the results._ \n",
        "\n",
        "_todo: What do you conclude about the effect of Blueprinty's software on patent success? Because the beta coefficients are not directly interpretable, it may help to create two fake datasets: X_0 and X_1 where X_0 is the X data but with iscustomer=0 for every observation and X_1 is the X data but with iscustomer=1 for every observation. Then, use X_0 and your fitted model to get the vector of predicted number of patents (y_pred_0) for every firm in the dataset, and use X_1 to get Y_pred_1 for every firm. Then subtract y_pred_1 minus y_pred_0 and take the average of that vector of differences._\n",
        "\n",
        "\n",
        "\n",
        "\n",
        "## AirBnB Case Study\n",
        "\n",
        "### Introduction\n",
        "\n",
        "AirBnB is a popular platform for booking short-term rentals. In March 2017, students Annika Awad, Evan Lebo, and Anna Linden scraped of 40,000 Airbnb listings from New York City.  The data include the following variables:\n",
        "\n",
        ":::: {.callout-note collapse=\"true\"}\n",
        "### Variable Definitions\n",
        "\n",
        "    - `id` = unique ID number for each unit\n",
        "    - `last_scraped` = date when information scraped\n",
        "    - `host_since` = date when host first listed the unit on Airbnb\n",
        "    - `days` = `last_scraped` - `host_since` = number of days the unit has been listed\n",
        "    - `room_type` = Entire home/apt., Private room, or Shared room\n",
        "    - `bathrooms` = number of bathrooms\n",
        "    - `bedrooms` = number of bedrooms\n",
        "    - `price` = price per night (dollars)\n",
        "    - `number_of_reviews` = number of reviews for the unit on Airbnb\n",
        "    - `review_scores_cleanliness` = a cleanliness score from reviews (1-10)\n",
        "    - `review_scores_location` = a \"quality of location\" score from reviews (1-10)\n",
        "    - `review_scores_value` = a \"quality of value\" score from reviews (1-10)\n",
        "    - `instant_bookable` = \"t\" if instantly bookable, \"f\" if not\n",
        "\n",
        "::::\n",
        "\n",
        "\n",
        "_todo: Assume the number of reviews is a good proxy for the number of bookings. Perform some exploratory data analysis to get a feel for the data, handle or drop observations with missing values on relevant variables, build one or more models (e.g., a poisson regression model for the number of bookings as proxied by the number of reviews), and interpret model coefficients to describe variation in the number of reviews as a function of the variables provided._\n"
      ],
      "id": "eb39cb6b"
    },
    {
      "cell_type": "code",
      "metadata": {},
      "source": [
        "# Load the Blueprinty data\n",
        "airbnb = pd.read_csv('/home/jovyan/Desktop/marketingwebsite/airbnb.csv')\n",
        "\n",
        "# Display the first few rows of the dataset\n",
        "airbnb.head()"
      ],
      "id": "e0fc9cbf",
      "execution_count": null,
      "outputs": []
    },
    {
      "cell_type": "code",
      "metadata": {},
      "source": [
        "print(airbnb.shape)\n",
        "print(airbnb.info())"
      ],
      "id": "ccdfc0fc",
      "execution_count": null,
      "outputs": []
    },
    {
      "cell_type": "code",
      "metadata": {},
      "source": [
        "# Show the number of missing values in each column\n",
        "missing_values = airbnb.isnull().sum()\n",
        "print(\"Number of missing values in each column:\")\n",
        "print(missing_values)"
      ],
      "id": "e7838af7",
      "execution_count": null,
      "outputs": []
    },
    {
      "cell_type": "code",
      "metadata": {},
      "source": [
        "airbnb.dropna(subset=['review_scores_cleanliness', 'review_scores_location', 'review_scores_value'], inplace=True)"
      ],
      "id": "eb579787",
      "execution_count": null,
      "outputs": []
    },
    {
      "cell_type": "code",
      "metadata": {},
      "source": [
        "airbnb.describe(include='object')"
      ],
      "id": "a08c274e",
      "execution_count": null,
      "outputs": []
    },
    {
      "cell_type": "code",
      "metadata": {},
      "source": [
        "airbnb['last_scraped'] = pd.to_datetime(airbnb['last_scraped'])\n",
        "airbnb['host_since'] = pd.to_datetime(airbnb['host_since'])\n",
        "\n",
        "airbnb['days'] = (airbnb['last_scraped'] - airbnb['host_since']).dt.days"
      ],
      "id": "8fe399fc",
      "execution_count": null,
      "outputs": []
    },
    {
      "cell_type": "markdown",
      "metadata": {},
      "source": [
        "Correlation Matrix for Numerical Variables"
      ],
      "id": "337d5069"
    },
    {
      "cell_type": "code",
      "metadata": {},
      "source": [
        "numeric_cols = ['price', 'bathrooms', 'bedrooms', 'number_of_reviews', \n",
        "                'review_scores_cleanliness', 'review_scores_location', \n",
        "                'review_scores_value', 'days']\n",
        "sns.heatmap(airbnb[numeric_cols].corr(), annot=True)"
      ],
      "id": "ff718b3f",
      "execution_count": null,
      "outputs": []
    },
    {
      "cell_type": "markdown",
      "metadata": {},
      "source": [
        "Price Distribution"
      ],
      "id": "46199e86"
    },
    {
      "cell_type": "code",
      "metadata": {},
      "source": [
        "sns.histplot(airbnb['price'], bins=50)"
      ],
      "id": "c9898f02",
      "execution_count": null,
      "outputs": []
    },
    {
      "cell_type": "markdown",
      "metadata": {},
      "source": [
        "Price vs. Room Type"
      ],
      "id": "fe0012de"
    },
    {
      "cell_type": "code",
      "metadata": {},
      "source": [
        "sns.boxplot(x='room_type', y='price', data=airbnb)"
      ],
      "id": "6c1c8ff9",
      "execution_count": null,
      "outputs": []
    }
  ],
  "metadata": {
    "kernelspec": {
      "name": "python3",
      "language": "python",
      "display_name": "Python 3 (ipykernel)",
      "path": "/opt/conda/share/jupyter/kernels/python3"
    }
  },
  "nbformat": 4,
  "nbformat_minor": 5
}